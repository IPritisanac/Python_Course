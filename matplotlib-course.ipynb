{
 "cells": [
  {
   "cell_type": "markdown",
   "id": "cfac3398",
   "metadata": {},
   "source": [
    "# Data Visualization with Python"
   ]
  },
  {
   "cell_type": "markdown",
   "id": "87bf76e0",
   "metadata": {},
   "source": [
    "- `pandas` for loading and organizing data\n",
    "- `matplotlib` and `seaborn` for making data visualizations\n",
    "\n",
    "1. Basic plotting with Matplotlib\n",
    "- creating a simple line plot\n",
    "- adding labels and titles, legends, grids\n",
    "- customizing colours and styles\n",
    "- saving plots to files\n",
    "2. Different types of plots\n",
    "- scatter, bars, histograms, pie charts\n",
    "3. Exercises "
   ]
  },
  {
   "cell_type": "markdown",
   "id": "330d17ca",
   "metadata": {},
   "source": [
    "# `matplotlib`  https://matplotlib.org/"
   ]
  },
  {
   "cell_type": "markdown",
   "id": "fd516ada",
   "metadata": {},
   "source": [
    "`matplotlib` ia a Python library specifically designed to make data visualizations. \n",
    "\n",
    "To make data viz with `matplotlib`, we import just one module (called `pyplot`) from the library, and shorten it to `plt`. \n"
   ]
  },
  {
   "cell_type": "code",
   "execution_count": null,
   "id": "16cbe993",
   "metadata": {},
   "outputs": [],
   "source": [
    "# import matplotlib \n",
    "from matplotlib import pyplot as plt"
   ]
  },
  {
   "cell_type": "markdown",
   "id": "f272a472",
   "metadata": {},
   "source": [
    "The function for a line chart is `.plot()`. We need to call `matplotlib` (as `plt`) first, so to make a line chart we’ll use `plt.plot()`.\n",
    "\n",
    "The line graph function has parameters for x and y data: `plt.plot(x, y)`.\n",
    "\n",
    "- `x` is the data for the x-axis – in a line chart, this is very often a measure of time\n",
    "- `y` is the data for y-axis – generally things we want to view over time, like interest rates, the price of a slice of pizza, or population size in a country"
   ]
  },
  {
   "cell_type": "markdown",
   "id": "4b8c582f",
   "metadata": {},
   "source": [
    "Run the cell to make a line graph plotting the total sales in the restaurant during the week."
   ]
  },
  {
   "cell_type": "code",
   "execution_count": null,
   "id": "8e236015",
   "metadata": {},
   "outputs": [],
   "source": [
    "# Create a plot\n",
    "plt.plot(['Mon', 'Tues', 'Weds', 'Thurs', 'Fri', 'Sat', 'Sun'], [540, 500, 490, 590, 680, 710, 610])\n",
    "\n",
    "# Display the plot\n",
    "plt.show()"
   ]
  },
  {
   "cell_type": "markdown",
   "id": "b15fb23e",
   "metadata": {},
   "source": [
    "Depending on our data setup, x and y could be written directly into the function (as above), pulled from data stored in a variety of data structures including ***lists***, ***numpy arrays***, and ***pandas dataframes***.\n",
    "\n",
    "***Your turn:*** Uncomment (##) to plot:"
   ]
  },
  {
   "cell_type": "code",
   "execution_count": null,
   "id": "6a4d009f",
   "metadata": {},
   "outputs": [],
   "source": [
    "# make a line chart using named lists\n",
    "day = ['Mon', 'Tues', 'Weds', 'Thurs', 'Fri', 'Sat', 'Sun']\n",
    "sales_totals = [540, 500, 490, 590, 680, 710, 610]\n",
    "##plt.plot(day, sales_totals)\n",
    "\n",
    "##plt.show()"
   ]
  },
  {
   "cell_type": "markdown",
   "id": "cc15f152",
   "metadata": {},
   "source": [
    "***Your turn:*** **Exercise 1**\n",
    "\n",
    "Try to create the same plot using the data from *restaurant_data.csv* file.\n",
    "\n",
    "*Reminder: use `pd.read_csv()`*"
   ]
  },
  {
   "cell_type": "code",
   "execution_count": null,
   "id": "a35cee59",
   "metadata": {},
   "outputs": [],
   "source": [
    "## YOUR SOLUTION HERE ##\n",
    "\n",
    "# import pandas\n",
    "\n",
    "# load dataset\n",
    "\n",
    "# make a chart\n"
   ]
  },
  {
   "cell_type": "markdown",
   "id": "f2d23141",
   "metadata": {},
   "source": [
    "# Customizing and general functions"
   ]
  },
  {
   "cell_type": "markdown",
   "id": "c259e456",
   "metadata": {},
   "source": [
    "Matplotlib allows you to customize various aspects of your plots. You can change line styles, colors, markers, labels, and more. \n",
    "\n",
    "| Parameter | argument |\n",
    "|:--------- |:---|\n",
    "| ***`linestyle`***    | 'dotted', 'dashed', 'solid', '--', '-.', ':'  |\n",
    "| ***`marker`*** | 'o', 's', 'D', '*'|\n",
    "|***`color`***     | 'r', 'green', '#FF0000', 'darkorange' | \n",
    "| ***`linewidth`***| 0.2, 0.5, 1.5 |\n",
    "| ***`label`*** | 'your label', `plt.legend()` uses `plt.plot()`’s label parameter as its information source |\n",
    "\n",
    "More parameters here: https://matplotlib.org/stable/api/_as_gen/matplotlib.pyplot.plot.html.\n",
    "\n",
    "General functions:\n",
    "\n",
    "|  | general function | parameters |\n",
    "|:--------- |:-|:--- |\n",
    "| Add a title  | `plt.title()` | 'your tile', fontsize=16, color='r', backgroundcolor='b', loc='right', fontstyle='italic', https://matplotlib.org/stable/api/text_api.html#matplotlib.text.Text|\n",
    "| Add a legend    | `plt.legend()`  | bbox_to_anchor = (1, 0.5) |\n",
    "| Add axis labels      | `plt.xlabel()`, `plt.ylabel()`  | 'your label', loc='center', ,fontsize=12, https://matplotlib.org/stable/api/text_api.html#matplotlib.text.Text |\n",
    "| Adjust axes  | `plt.xlim()`, `plt.ylim()` | 1,10 |\n",
    "| Modify tick labels | `plt.xticks()`, `plt.yticks()` | rotation=45,size='large', color='purple' | \n",
    "| Add a grid   |  `plt.grid()` | color='r', linestyle='--', linewidth=2, axis = 'x', alpha=0.5 |\n",
    "| Print graph  | `plt.show()`  | |\n",
    "| **Save the figure** | `plt.savefig()` | 'my_plot.png', dpi=128, bbox_inches='tight' |\n",
    "\n",
    "\n",
    "Here's an example, uncomment (##) and feel free to modify the plot:"
   ]
  },
  {
   "cell_type": "code",
   "execution_count": null,
   "id": "7f58bdcd",
   "metadata": {},
   "outputs": [],
   "source": [
    "plt.plot(['Mon', 'Tues', 'Weds', 'Thurs', 'Fri', 'Sat', 'Sun'], [540, 500, 490, 590, 680, 710, 610], label='First week', linestyle='dashed', color='red', marker='o', linewidth=1.8)\n",
    "##plt.xlabel('Day',fontsize=12)\n",
    "##plt.ylabel('Sales',fontsize=12)\n",
    "##plt.legend()\n",
    "##plt.ylim(480,720)\n",
    "##plt.title('Restaurant Sales', fontsize=16)\n",
    "##plt.grid(axis='y', alpha=0.3)\n",
    "\n",
    "plt.show()"
   ]
  },
  {
   "cell_type": "markdown",
   "id": "ba024c80",
   "metadata": {},
   "source": [
    "***Your turn:*** **Exercise 2**\n",
    "\n",
    "We’re going to look at monthly average temperatures from around the world. "
   ]
  },
  {
   "cell_type": "code",
   "execution_count": null,
   "id": "3c5e8619",
   "metadata": {},
   "outputs": [],
   "source": [
    "import pandas as pd\n",
    "\n",
    "# load dataset\n",
    "data = pd.read_csv(\"2020-monthly-avg-temps-f.csv\")\n",
    "data.head()"
   ]
  },
  {
   "cell_type": "markdown",
   "id": "196308a8",
   "metadata": {},
   "source": [
    "Below is the code to make a line graph plotting the monthly average high temperature in different cities on the y-axis and month names on the x-axis.\n",
    "\n",
    "\n",
    "Try to add the monthly average high temperatures for the rest of cities from the *2020-monthly-avg-temps-f.csv* file. Name axes, rotate the tick-labels on the x-axis 45 degrees, add title, legend, axis labels, grid etc. Save your plot."
   ]
  },
  {
   "cell_type": "code",
   "execution_count": null,
   "id": "e4c9aa7f",
   "metadata": {},
   "outputs": [],
   "source": [
    "## YOUR SOLUTION HERE ##\n",
    "\n",
    "# make a line chart\n",
    "plt.plot(data.month_name, data.alice_springs_avg_high, color='darkorange', label='Alice Springs')\n",
    "plt.plot(data.month_name, data.windhoek_avg_high, color='pink', label='Windhoek')\n",
    "\n",
    "plt.show()"
   ]
  },
  {
   "cell_type": "markdown",
   "id": "7efb1b58",
   "metadata": {},
   "source": [
    "# Different types of plots"
   ]
  },
  {
   "cell_type": "markdown",
   "id": "48b6517f",
   "metadata": {},
   "source": [
    "Let’s learn about five common chart types in data visualization, and how we make them appear in `matplotlib`.\n",
    "\n",
    "Each graph that can be made in `matplotlib` has a dedicated function. To change the graph type, we change which graph function we’re calling from `plt`. Here are five of the most commonly used charts and the functions we call to make them:"
   ]
  },
  {
   "cell_type": "markdown",
   "id": "d9339022",
   "metadata": {},
   "source": [
    "| Chart type    | Chart code  | Review | \n",
    "|:-------------- |:-----------|:-----------|\n",
    "| Line chart    | `plt.plot()`   |shows continuous change, often used to measure change over time |\n",
    "| Bar chart     | `plt.bar()`   | uses bar height to compare a measure between categorical variables|\n",
    "| Scatter plot  | `plt.scatter()`   |uses position to show the relationship, or correlation, between two numeric values |\n",
    "| Pie chart     | `plt.pie()`   | shows us the breakdown of a whole into its parts|\n",
    "| Histogram     | `plt.hist()`   |  shows how one kind of data is distributed|\n",
    "\n",
    "\n",
    "More types here: https://matplotlib.org/stable/plot_types/index.html"
   ]
  },
  {
   "cell_type": "markdown",
   "id": "825589cd",
   "metadata": {},
   "source": [
    "**Bar chart**\n",
    "\n",
    "The bar chart graph function is `plt.bar()`. It takes the following parameters:\n",
    "\n",
    "- `x`: categorical data for each bar\n",
    "- `height`: numeric data to determine the height of each bar\n",
    "- `width`: a number we can pass in to set the width of each bar\n",
    "- `align`: set to 'center' or 'edge' to align each bar on the x-axis\n",
    "- `color`, `edgecolor`\n",
    "- more: https://matplotlib.org/stable/api/_as_gen/matplotlib.pyplot.bar.html"
   ]
  },
  {
   "cell_type": "markdown",
   "id": "32b05e26",
   "metadata": {},
   "source": [
    "***Your turn:*** **Exercise 3**\n",
    "\n",
    "Below is a bar chart of *pH* and *average leaf width* using *'plant_data_simplified.csv'*. Check out the columns in the dataset to get a sense of what it contains. Set the width equal to 0.8 and align to center. Add a title: *Effect of soil pH on plant growth* and labels. Play with bar chart parameters."
   ]
  },
  {
   "cell_type": "code",
   "execution_count": null,
   "id": "048b6ab9",
   "metadata": {},
   "outputs": [],
   "source": [
    "## YOUR SOLUTION HERE ##\n",
    "\n",
    "bar_data = pd.read_csv('plant_data_simplified.csv')\n",
    "\n",
    "##plt.bar(x=bar_data.PH, height=bar_data.average_leaf_width)\n",
    "\n",
    "##plt.show()"
   ]
  },
  {
   "cell_type": "markdown",
   "id": "0988ce2a",
   "metadata": {},
   "source": [
    "We can visually represent uncertainty by adding error bars to a graph. We’ll use matplotlib’s general function **`plt.errorbar()`**, which takes parameters to\n",
    "\n",
    "- `x` and `y`: restate the X and Y values of the underlying graph\n",
    "- `yerr` and/or `xerr`: set error values in the X or Y direction\n",
    "- `color`: set the color of the error bar (optional)\n",
    "- `fmt`: change the marker ('o', 's', 'D', '*')\n",
    "- `capsize`: the length of the error bar caps in points.\n",
    "- many more: https://matplotlib.org/stable/api/_as_gen/matplotlib.pyplot.errorbar.html\n",
    "\n"
   ]
  },
  {
   "cell_type": "markdown",
   "id": "cb7db180",
   "metadata": {},
   "source": [
    "***Your turn:*** **Exercise 4**\n",
    "\n",
    "Copy the code from the cell above. In the space above `plt.show()`, write the code to add error bars using the *error* column from the *'plant_data_simplified.csv'*. Set the marker to `'o'`, set the capsize to 6 and make the error bar color `'orangered'`."
   ]
  },
  {
   "cell_type": "code",
   "execution_count": null,
   "id": "99607c24",
   "metadata": {},
   "outputs": [],
   "source": [
    "## YOUR SOLUTION HERE ##\n",
    "\n"
   ]
  },
  {
   "cell_type": "markdown",
   "id": "47ab7a11",
   "metadata": {},
   "source": [
    "**Scatterplot**"
   ]
  },
  {
   "cell_type": "markdown",
   "id": "68c657e8",
   "metadata": {},
   "source": [
    "Scatterplots are great for diectly comparing two continuous numeric variables, helping us to visualize the relationship or **correlation** between them."
   ]
  },
  {
   "cell_type": "markdown",
   "id": "398d5357",
   "metadata": {},
   "source": [
    "Use **`plt.scatter()`** with the following parameters:\n",
    "\n",
    "- `x` and `y`: the continuous numeric variables to be compared\n",
    "- `color`: marker color, as a color code, color name, or hex code\n",
    "- `alpha`: marker opacity, as a number between 0 (transparent) and 1 (opaque)\n",
    "- `marker` and `s`: marker shape and size\n",
    "- more: https://matplotlib.org/stable/api/_as_gen/matplotlib.pyplot.scatter.html"
   ]
  },
  {
   "cell_type": "markdown",
   "id": "13962070",
   "metadata": {},
   "source": [
    "***Your turn:*** **Exercise 5**\n",
    "\n",
    "Run the cell to load the *spotify_data_by_genres.csv*. Check out the columns in the dataset to get a sense of what it contains."
   ]
  },
  {
   "cell_type": "code",
   "execution_count": null,
   "id": "d61ad79b",
   "metadata": {},
   "outputs": [],
   "source": [
    "# load dataset\n",
    "scatter_data = pd.read_csv('spotify_data_by_genres.csv')"
   ]
  },
  {
   "cell_type": "markdown",
   "id": "63c85c99",
   "metadata": {},
   "source": [
    "Write the code to make a scatterplot comparing `danceability` and `valence`. `danceability` is a measure of how “danceable” a song is, from 0 (not dance-y, like an audiobook or funeral dirge) to 1 (very dance-y, like disco or house music). `valence` is a measure of the song’s mood: sad to happy from 0 to 1. What kind of correlation do you expect?\n",
    "\n",
    "Adjust the alpha to 0.25 to make the relationship more obvious. Play around with other alpha values to see how the graph’s readability changes!"
   ]
  },
  {
   "cell_type": "code",
   "execution_count": null,
   "id": "5b3aea3e",
   "metadata": {},
   "outputs": [],
   "source": [
    "## YOUR SOLUTION HERE ##\n",
    "\n",
    "plt.scatter(scatter_data.danceability, scatter_data.valence)\n",
    "plt.title('Mood and Danceability correlation in Spotify genres')\n",
    "plt.xlabel('Danceability')\n",
    "plt.ylabel('Valence / Mood (sadder to happier)')\n",
    "plt.show()"
   ]
  },
  {
   "cell_type": "markdown",
   "id": "707a427f",
   "metadata": {},
   "source": [
    "Experiment with other Spotify categories in the x and y parameters, if you want!"
   ]
  },
  {
   "cell_type": "code",
   "execution_count": null,
   "id": "8939a395",
   "metadata": {},
   "outputs": [],
   "source": [
    "## YOUR SOLUTION HERE ##\n",
    "\n",
    "plt.title('___ and ___ correlation in Spotify genres')\n"
   ]
  },
  {
   "cell_type": "markdown",
   "id": "3463a3ef",
   "metadata": {},
   "source": [
    "# View in subplots"
   ]
  },
  {
   "cell_type": "markdown",
   "id": "86742cc7",
   "metadata": {},
   "source": [
    "In data visualization, it’s often helpful to compare multiple simple visualizations. As we saw in the last exercise, there were many Spotify categories to compare across genres, and viewing them as individual scatterplots definitely made more sense than trying to fit them all into the same graph.\n",
    "\n",
    "`.subplots` function creates a figure and a grid of subplots with a single call, while providing reasonable control over how the individual plots are created. "
   ]
  },
  {
   "attachments": {
    "fig-4-plots-2.png": {
     "image/png": "[encoded data removed]"
    }
   },
   "cell_type": "markdown",
   "id": "2299286b",
   "metadata": {},
   "source": [
    "![fig-4-plots-2.png](attachment:fig-4-plots-2.png)"
   ]
  },
  {
   "cell_type": "markdown",
   "id": "c8a8791e",
   "metadata": {},
   "source": [
    "First we create the `figure` (which we can call `fig`) and at least one `axis` (which you can call `ax`) using the **`subplots()`** function from the pyplot module:"
   ]
  },
  {
   "cell_type": "code",
   "execution_count": null,
   "id": "1ebeaf01",
   "metadata": {},
   "outputs": [],
   "source": [
    "# Create figure and one plot (axis object) \n",
    "fig, ax = plt.subplots()"
   ]
  },
  {
   "cell_type": "markdown",
   "id": "399fd5b3",
   "metadata": {},
   "source": [
    "`fig` and `ax` are variable names for the **figure** and **axis** objects. You can call these items whatever you want. "
   ]
  },
  {
   "cell_type": "markdown",
   "id": "2eb75c53",
   "metadata": {},
   "source": [
    "Notice that the `fig` and `ax` are created at the same time by setting them equal to the output of the pyplot.subplots() function. As no other arguments have been provided, the result is a figure with one plot that is empty but ready for data.\n",
    "\n",
    "You can change the size of your figure using the argument figsize to specify a width and height for your figure:\n",
    "\n",
    "`figsize = (width, height)`"
   ]
  },
  {
   "cell_type": "code",
   "execution_count": null,
   "id": "c52e4be8",
   "metadata": {},
   "outputs": [],
   "source": [
    "# Resize figure\n",
    "fig, ax = plt.subplots(figsize = (5, 3))"
   ]
  },
  {
   "cell_type": "code",
   "execution_count": null,
   "id": "47820c0a",
   "metadata": {},
   "outputs": [],
   "source": [
    "# Figure with two plots\n",
    "fig, (ax1, ax2) = plt.subplots(2, 1, figsize = (3, 3))"
   ]
  },
  {
   "cell_type": "code",
   "execution_count": null,
   "id": "87cb1613",
   "metadata": {},
   "outputs": [],
   "source": [
    "# Figure with two plots\n",
    "fig, (ax1, ax2) = plt.subplots(1, 2, figsize = (5, 3))"
   ]
  },
  {
   "cell_type": "markdown",
   "id": "3982da67",
   "metadata": {},
   "source": [
    "You can play around with both the number of rows and columns as well as figsize to arrive at the look that you want.\n",
    "\n",
    "\n",
    "Here the example. `scatter` function is now a method of `axis` objects."
   ]
  },
  {
   "cell_type": "code",
   "execution_count": null,
   "id": "02374fb4",
   "metadata": {},
   "outputs": [],
   "source": [
    "fig, ((ax1,ax2,ax3,ax4),(ax5,ax6,ax7,ax8),(ax9,ax10,ax11,ax12)) = plt.subplots(3,4,figsize = (10, 6))\n",
    "\n",
    "ax1.scatter(scatter_data.popularity, scatter_data.acousticness, alpha=0.05)\n",
    "ax1.set(title='acousticness')\n",
    "ax2.scatter(scatter_data.popularity, scatter_data.danceability, alpha=0.05)\n",
    "ax2.set(title='danceability')\n",
    "ax3.scatter(scatter_data.popularity, scatter_data.duration_ms, alpha=0.05)\n",
    "ax3.set(title='duration_ms')\n",
    "ax4.scatter(scatter_data.popularity, scatter_data.energy, alpha=0.05)\n",
    "ax4.set(title='energy')\n",
    "ax5.scatter(scatter_data.popularity, scatter_data.instrumentalness, alpha=0.05)\n",
    "ax5.set(title='instrumentalness')\n",
    "ax6.scatter(scatter_data.popularity, scatter_data.liveness, alpha=0.05)\n",
    "ax6.set(title='liveness')\n",
    "ax7.scatter(scatter_data.popularity, scatter_data.loudness, alpha=0.05)\n",
    "ax7.set(title='loudness')\n",
    "ax8.scatter(scatter_data.popularity, scatter_data.speechiness, alpha=0.05)\n",
    "ax8.set(title='speechiness')\n",
    "ax9.scatter(scatter_data.popularity, scatter_data.tempo, alpha=0.05)\n",
    "ax9.set(title='tempo')\n",
    "ax10.scatter(scatter_data.popularity, scatter_data.valence, alpha=0.05)\n",
    "ax10.set(title='valence')\n",
    "ax11.scatter(scatter_data.popularity, scatter_data.key, alpha=0.05)\n",
    "ax11.set(title='key')\n",
    "ax12.scatter(scatter_data.popularity, scatter_data.popularity, alpha=0.05)\n",
    "ax12.set(title='popularity')\n",
    "\n",
    "plt.subplots_adjust(hspace=0.5, wspace=0.3)\n",
    "plt.suptitle('Relationship between Popularity and ______')\n",
    "\n",
    "plt.show()"
   ]
  },
  {
   "cell_type": "markdown",
   "id": "ddedc177",
   "metadata": {},
   "source": [
    "# Pie chart\n",
    "\n",
    "Generates pie charts to represent data as proportions of a whole."
   ]
  },
  {
   "cell_type": "markdown",
   "id": "f2d428c3",
   "metadata": {},
   "source": [
    "**`plt.pie()`** takes the following parameters:\n",
    "\n",
    "- `x`: the numeric variable shown as pieces of the pie. The function adds up all the x values to compare part and whole and auto-generate the pieces of the pie.\n",
    "- `labels`: the variable used to label each section of the pie chart\n",
    "- `startangle`: the rotation of the pie chart, adjusted to improve readability\n",
    "- `colors`: an array of colors the chart will cycle through. If blank, defaults to matplotlib’s default 10-color “Tableau” palette.\n",
    "- more: https://matplotlib.org/stable/api/_as_gen/matplotlib.pyplot.pie.html\n",
    "\n",
    "`x` is the only required parameter here, but the others can all help make the pie chart more readable. "
   ]
  },
  {
   "cell_type": "markdown",
   "id": "ca7d9339",
   "metadata": {},
   "source": [
    "***Your turn:*** **Exercise 6**\n",
    "\n",
    "For the pie chart below add labels from the *'EV_market_share.csv'* file and set the start angle equal to 60."
   ]
  },
  {
   "cell_type": "code",
   "execution_count": null,
   "id": "131ef58e",
   "metadata": {},
   "outputs": [],
   "source": [
    "# load dataset\n",
    "pie_data = pd.read_csv('EV_market_share.csv')\n",
    "pie_data.head()"
   ]
  },
  {
   "cell_type": "code",
   "execution_count": null,
   "id": "a8689a79",
   "metadata": {},
   "outputs": [],
   "source": [
    "## YOUR SOLUTION HERE ##\n",
    "\n",
    "plt.pie(pie_data.number_sold)\n",
    "plt.title('Top 10 EVs sold in the US by count, 2021')\n",
    "plt.show()"
   ]
  },
  {
   "cell_type": "markdown",
   "id": "1b58ff6d",
   "metadata": {},
   "source": [
    "# Histogram\n",
    "Used to create histograms, which represent the distribution of a dataset."
   ]
  },
  {
   "cell_type": "markdown",
   "id": "72dcaf9f",
   "metadata": {},
   "source": [
    "**`plt.hist()`** takes the following parameters:\n",
    "\n",
    "- `x`: the value being distributed – note that it should not be an aggregated value\n",
    "- `bins`: specifies how many bins to make (e.g. 10), intervals or ranges into which the data is divided in order to construct the histogram\n",
    "- `range`: the lower and upper range of the bins. If unspecified, set to the min and max values for x\n",
    "- `color`: sets the color of the bars\n",
    "- more: https://matplotlib.org/stable/api/_as_gen/matplotlib.pyplot.hist.html\n",
    "\n",
    "As with most of our other graph functions, only the data portion (`x`) is strictly necessary, but adjusting other parameters makes a much more useful graph."
   ]
  },
  {
   "cell_type": "markdown",
   "id": "46c721d5",
   "metadata": {},
   "source": [
    "***Your turn:*** **Exercise 7**"
   ]
  },
  {
   "cell_type": "markdown",
   "id": "26d90a77",
   "metadata": {},
   "source": [
    "Run the code to check out the first few rows of hist_data to see what we’re working with. (Note: carapace_length refers to the length of the lobster’s shell.)"
   ]
  },
  {
   "cell_type": "code",
   "execution_count": null,
   "id": "ab8c115e",
   "metadata": {},
   "outputs": [],
   "source": [
    "# load dataset\n",
    "hist_data = pd.read_csv('lobster_dist.csv')\n",
    "hist_data.head()"
   ]
  },
  {
   "cell_type": "markdown",
   "id": "f82c9397",
   "metadata": {},
   "source": [
    "**Exercise**\n",
    "\n",
    "\n",
    "1. Now that we've looked at some of the data in table form, let's see it as a histogram. Write the code to make a histogram. Set the bins to 10.\n",
    "\n",
    "2. Play with the number of bins. Let's also make this graph more readable: title the graph \"Lobsters tagged by size\", and label the x and y axes \"Carapace length (mm)\" and \"Number tagged\", respectively.\n",
    "\n",
    "3. Let's give the distribution a little breathing room on either side by specifying a range of (75, 155) - just slightly outside of our minimum and maximum x-values. Additionally, set the histogram color to 'gold'... because why not?"
   ]
  },
  {
   "cell_type": "code",
   "execution_count": null,
   "id": "13674bcc",
   "metadata": {},
   "outputs": [],
   "source": [
    "## YOUR SOLUTION HERE ##\n",
    "plt.hist(hist_data.carapace_length, bins=20)\n",
    "plt.show()"
   ]
  },
  {
   "cell_type": "markdown",
   "id": "f0522fe0",
   "metadata": {},
   "source": [
    "# Add AB lines"
   ]
  },
  {
   "cell_type": "markdown",
   "id": "47129206",
   "metadata": {},
   "source": [
    "An **AB line** is a straight line added to a graph (i.e. “from point A to point B”). It can be vertical, horizontal, or diagonal. Generally, an AB line helps to demarcate one area from another or provide context that helps the viewer make sense of the data in the graph. In matplotlib, the function **`plt.axvline()`** makes a vertical AB line, and plt.axhline() makes a horizontal AB line. **`plt.axvline()`** takes the following parameters:\n",
    "\n",
    "- `x`: where to position the line along the x-axis\n",
    "- `ymin`: how close to the bottom of the graph the line starts. Usually set to 0\n",
    "- `ymax`: how close to the bottom of the graph the line ends. Usually set to 1\n",
    "- `linewidth`: line width of the AB line\n",
    "- `dashes`: dash pattern given as (line_length, space_length)\n",
    "- `color`: color of the AB line\n",
    "\n",
    "**`plt.axhline()`** functions exactly the same, but with `y`, `xmin`, and `xmax` parameters to determine position.\n",
    "\n",
    "\n",
    "We can easily add **annotations** to a graph (or label an AB line) using **`plt.annotate()`**, which allows us to position and format text on a graph. To split an annotation over two or more lines, we can simply add line breaks to the annotation text using \\n.\n",
    "\n",
    "**`plt.annotate()`** takes the following arguments:\n",
    "\n",
    "- `text`: annotation text\n",
    "- `xy`: (x, y) coordinate position for annotation\n",
    "- `color`: color of annotation text and arrow"
   ]
  },
  {
   "cell_type": "markdown",
   "id": "60a8266f",
   "metadata": {},
   "source": [
    "**Exercise**\n",
    "\n",
    "1. Copy the last histogram.\n",
    "2. Let's mark the minimum and maximum legal catch sizes for lobsters: 83mm minimum, and 127mm maximum. Place one vertical AB line at each of these numbers. Set the `linewidth` to `2`, `dashes` equal to `(1,2)`, and `color` to `mediumblue`. \n",
    "3. Nice! Now we can see clearly that the first peak in the population distribution happens _just_ before lobsters become too big enough to be legally caught. Interesting! Let's annotate these lines to make that connection more obvious. Add an annotation for 'Minimum legal catch size' to the line at `x = 84mm` and `y = 23` and 'Maxmimum legal catch size' at `x = 128mm` and `y = 7`.\n",
    "4. So close! Let's fix up the spacing on the second annotation to keep the graph tidy. Split the ‘Maximum legal catch size’ annotation into two lines using a line break, \\n, instead of the space between the words ‘legal’ and ‘catch’."
   ]
  },
  {
   "cell_type": "code",
   "execution_count": null,
   "id": "e88a3c2b",
   "metadata": {},
   "outputs": [],
   "source": [
    "## YOUR SOLUTION HERE ##\n",
    "\n"
   ]
  },
  {
   "cell_type": "markdown",
   "id": "174500d1",
   "metadata": {},
   "source": [
    "**Bibliography**\n",
    "1. https://www.codecademy.com/\n",
    "2. https://matplotlib.org/\n",
    "3. https://www.geeksforgeeks.org/\n",
    "4. https://www.earthdatascience.org/"
   ]
  }
 ],
 "metadata": {
  "kernelspec": {
   "display_name": "Python 3 (ipykernel)",
   "language": "python",
   "name": "python3"
  },
  "language_info": {
   "codemirror_mode": {
    "name": "ipython",
    "version": 3
   },
   "file_extension": ".py",
   "mimetype": "text/x-python",
   "name": "python",
   "nbconvert_exporter": "python",
   "pygments_lexer": "ipython3",
   "version": "3.9.13"
  }
 },
 "nbformat": 4,
 "nbformat_minor": 5
}
