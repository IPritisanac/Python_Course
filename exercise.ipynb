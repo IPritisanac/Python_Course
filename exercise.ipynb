{
 "cells": [
  {
   "cell_type": "markdown",
   "id": "feb1a23e",
   "metadata": {},
   "source": [
    "*Once upon a time in the charming village of DataVille, there was a diligent researcher named Alice. She was known for her love of gardening and kept meticulous records of her garden activities. One day, she decided to record the daily weather conditions and the growth of her beloved flowers. She collected data for a month and wanted to analyze it to make informed decisions about her gardening.*\n",
    "\n",
    "*She carefully noted down the following information:*\n",
    "\n",
    "- *Date*\n",
    "- *Temperature (in Celsius)*\n",
    "- *Rainfall (in millimeters)*\n",
    "- *Sunshine hours*\n",
    "- *Height of her Tallest Flower (in centimeters)*\n",
    "\n",
    "*With this data, she could plan when to water her garden or which days were ideal for planting new flowers.*"
   ]
  },
  {
   "cell_type": "markdown",
   "id": "6d836087",
   "metadata": {},
   "source": [
    "**Exercise:**\n",
    "\n",
    "1. Load the data from the CSV file into a Pandas DataFrame.\n",
    "2. Explore the data by displaying the first few rows, checking the data types of each column and the number of rows.\n",
    "3. Remove any rows with outliers in the \"Temperature\" column. You can consider values below 0°C and above 40°C as outliers. Check the number of rows again.\n",
    "4. Calculate the total rainfall for the month and the average daily temperature.\n",
    "5. Create a line plot using Matplotlib to visualize the daily temperature trends over the month. Save the plot.\n",
    "6. Create a bar chart to show the total rainfall for each day.\n",
    "7. Print the date when Alice's tallest flower reached 74 cm."
   ]
  },
  {
   "cell_type": "code",
   "execution_count": null,
   "id": "39a3e56f",
   "metadata": {},
   "outputs": [],
   "source": []
  }
 ],
 "metadata": {
  "kernelspec": {
   "display_name": "Python 3 (ipykernel)",
   "language": "python",
   "name": "python3"
  },
  "language_info": {
   "codemirror_mode": {
    "name": "ipython",
    "version": 3
   },
   "file_extension": ".py",
   "mimetype": "text/x-python",
   "name": "python",
   "nbconvert_exporter": "python",
   "pygments_lexer": "ipython3",
   "version": "3.9.13"
  }
 },
 "nbformat": 4,
 "nbformat_minor": 5
}
